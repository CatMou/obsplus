{
 "cells": [
  {
   "cell_type": "markdown",
   "metadata": {},
   "source": [
    "# Obsplus\n",
    "\n",
    "*\"A Pandas-Centric Obspy Expansion Pack\"*\n",
    "\n",
    "Obsplus is python package that adds functionality to the python seismology package [obspy](https://github.com/obspy/obspy/wiki). \n",
    "\n",
    "Key features include:\n",
    "\n",
    "## Unifying Interfaces\n",
    "\n",
    "Obsplus enables you to use the same interfaces for each kind of seismic data (ie events, waveforms, and stations) regardless of the source. This is made possible by:\n",
    "\n",
    "- [WaveBank](./interfaces/wavebank.ipynb) for working with local archives of waveforms.\n",
    "\n",
    "\n",
    "- [EventBank](./interfaces/eventbank.ipynb) for working with local archives of events.\n",
    "\n",
    "\n",
    "- [Added obspy methods](./interfaces/obspy_methods.ipynb) for treating `Stream`, `Catalog` and `Inventory` instances the same as remote clients.\n",
    "\n",
    "\n",
    "- [Fetcher](./interfaces/fetcher.ipynb) for dataset-aware data retrieval made possible by composing waveform, events, and station clients.\n",
    "\n",
    "\n",
    "## Alternative Data Structures\n",
    "Obsplus provides several conversion functions to transform normal obspy data structures into [DataFrames](https://pandas.pydata.org/pandas-docs/stable/generated/pandas.DataFrame.html) or [DataArrays](http://xarray.pydata.org/en/stable/generated/xarray.DataArray.html). These can be more convenient/efficient to work with, but come with their own trade-offs.\n",
    "\n",
    "- [Summarize event data](./datastructures/events_to_pandas.ipynb) as pandas DataFrames.\n",
    "\n",
    "\n",
    "- [Summarize station data](./datastructures/stations_to_pandas.ipynb) as pandas DataFrames.\n",
    "\n",
    "\n",
    "- [Convert wavefroms to xarray DataArrays](./datastructures/xarray.ipynb) for efficient array processing.\n",
    "\n",
    "\n",
    "## Utilities\n",
    "Some utilities that you don't have to rewrite yourself. Some of these will be moved to obspy if their usefulness to a wider audience is established.\n",
    "\n",
    "\n",
    "- [Catalog validation](./utils/catalog_validation.ipynb) to bring a little more sanity to an already chaotic world.\n",
    "\n",
    "\n",
    "- [DataFrameExtractor](./utils/dataframeextractor.ipynb) to develop your own dataframe converters.\n",
    "\n",
    "\n",
    "- [Catalog to json](./utils/json.ipynb) to, well, convert catalogs to json. \n",
    " \n",
    " \n",
    "## Datasets\n",
    "Often seismology codes benefit from a complete set of station, event, and waveform data for testing and demonstration. Obsplus provides a few interesting (at least to the authors) datasets. Others can be added using the [DataSet class](:class:`~obsplus.datasets.dataloader.DataSet`) class.\n",
    " \n",
    "- [A collection of public datasets](./datasets/datasets.ipynb) for testing and documentation."
   ]
  }
 ],
 "metadata": {
  "kernelspec": {
   "display_name": "Python 3",
   "language": "python",
   "name": "python3"
  },
  "language_info": {
   "codemirror_mode": {
    "name": "ipython",
    "version": 3
   },
   "file_extension": ".py",
   "mimetype": "text/x-python",
   "name": "python",
   "nbconvert_exporter": "python",
   "pygments_lexer": "ipython3",
   "version": "3.6.4"
  }
 },
 "nbformat": 4,
 "nbformat_minor": 2
}
