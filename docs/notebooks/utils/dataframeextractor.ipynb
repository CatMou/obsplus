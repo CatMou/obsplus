{
 "cells": [
  {
   "cell_type": "markdown",
   "metadata": {},
   "source": [
    "# DataFrameExtractor\n",
    "\n",
    "\n",
    "<div class=\"alert alert-warning\">\n",
    "\n",
    "**Warning**: This section is a bit technical and many users won't need this functionality. Also, it is a bit experimental and the API may change in future versions. Proceed with caution.\n",
    "\n",
    "</div>\n",
    "\n",
    "The callables [`picks_to_df`, `events_to_df`](../datastructures/events_to_pandas.ipynb), and [`inventory_to_df`](../datastructures/stations_to_pandas.ipynb) are instances of `DataFrameExtractor`, which provides an extensible and customizable way for creating callables that extract `DataFrames` from arbitrary objects.\n",
    "\n",
    "To demonstrate, let's create a new extractor to put arrival objects in the Crandall catalog into a dataframe. We can then join this table together with the picks table to do some (possibly) interesting things."
   ]
  },
  {
   "cell_type": "code",
   "execution_count": 1,
   "metadata": {},
   "outputs": [
    {
     "name": "stdout",
     "output_type": "stream",
     "text": [
      "8 Event(s) in Catalog:\n",
      "2007-08-06T01:44:48.810000Z | +39.462, -111.238 | 2.32 ml\n",
      "2007-08-06T10:47:25.600000Z | +39.462, -111.232 | 1.92 ml\n",
      "2007-08-06T08:48:40.010000Z | +39.464, -111.228 | 4.2 mb\n",
      "2007-08-07T02:14:24.080000Z | +39.463, -111.223 | 1.17 ml\n",
      "2007-08-07T03:44:18.470000Z | +39.462, -111.215 | 1.68 ml\n",
      "2007-08-07T02:05:04.490000Z | +39.465, -111.225 | 2.44 ml\n",
      "2007-08-07T21:42:51.130000Z | +39.463, -111.220 | 1.88 ml\n",
      "2007-08-07T07:13:05.760000Z | +39.461, -111.224 | 2.55 ml\n"
     ]
    }
   ],
   "source": [
    "import obspy\n",
    "\n",
    "import obsplus\n",
    "\n",
    "crandall = obsplus.load_dataset('crandall')\n",
    "cat =crandall.event_client.get_events()\n",
    "print(cat)"
   ]
  },
  {
   "cell_type": "markdown",
   "metadata": {},
   "source": [
    "We will start by initializing the extractor with a list of expected columns and data types. This is optional, but helps ensure the output dataframe has a consistent shape and data type. The [arrival documentation](https://docs.obspy.org/packages/autogen/obspy.core.event.origin.Arrival.html) may be useful to understand these. Rather than collecting all the data contained in the `Arrival` instances, we will only create a few columns of interest."
   ]
  },
  {
   "cell_type": "code",
   "execution_count": 2,
   "metadata": {},
   "outputs": [],
   "source": [
    "from collections import OrderedDict\n",
    "\n",
    "import obspy.core.event as ev\n",
    "\n",
    "# declare datatypes (order to double as required columns)\n",
    "dtypes = OrderedDict(\n",
    "    resource_id=str, \n",
    "    pick_id=str, \n",
    "    event_id=str,\n",
    "    origin_id= str, \n",
    "    phase=str, \n",
    "    time_correction=float, \n",
    "    distance=float, \n",
    "    time_residual=float,                \n",
    "    time_weight=float,\n",
    ")\n",
    "\n",
    "# init the DataFrameExtractor\n",
    "arrivals_to_df = obsplus.DataFrameExtractor(ev.Arrival, required_columns=list(dtypes), \n",
    "                                            dtypes=dtypes)"
   ]
  },
  {
   "cell_type": "markdown",
   "metadata": {},
   "source": [
    "Next we define some \"extractors\". These are callables that will take an `Arrival` instance and return the desired data. The extractors can return:\n",
    "\n",
    "1. A `dict` of values where each key corresponds to a column name and each value is the row value of that column for the current object.\n",
    "\n",
    "2. Anything else, which is interpreted as the row value, and the column name is obtained from the function name."
   ]
  },
  {
   "cell_type": "code",
   "execution_count": 3,
   "metadata": {},
   "outputs": [],
   "source": [
    "# an extractor which returns a dictionary\n",
    "@arrivals_to_df.extractor\n",
    "def _get_basic(arrival):\n",
    "    out = dict(\n",
    "        resource_id=str(arrival.resource_id),\n",
    "        pick_id=str(arrival.pick_id),\n",
    "        time_correction=arrival.time_correction,\n",
    "        distance=arrival.distance,\n",
    "        time_residual=arrival.time_residual,\n",
    "        time_weight=arrival.time_weight,\n",
    "    )\n",
    "    return out\n",
    "\n",
    "\n",
    "# an extractor which returns a single value\n",
    "@arrivals_to_df.extractor\n",
    "def _get_phase(arrival):\n",
    "    return arrival.phase"
   ]
  },
  {
   "cell_type": "markdown",
   "metadata": {},
   "source": [
    "Notice, however, that we have no way of extracting information from the parent `Origin` or `Event` objects. Also, the extractor doesn't yet know how to find the arrivals in a `Catalog` object. To accomplish both these tasks, we can define the types of data the extractor can operate on, and inject the event and origin data into arrival rows:"
   ]
  },
  {
   "cell_type": "code",
   "execution_count": 4,
   "metadata": {},
   "outputs": [],
   "source": [
    "@arrivals_to_df.register(obspy.Catalog)\n",
    "def _get_arrivals_from_catalogs(cat):\n",
    "    arrivals = []  # a list of arrivals\n",
    "    extras = {}  # dict of data to inject to arrival level\n",
    "    for event in cat:\n",
    "        for origin in event.origins:\n",
    "            arrivals.extend(origin.arrivals)\n",
    "            data = dict(event_id=event.resource_id, origin_id=origin.resource_id)\n",
    "            # use arrival id to inject extra to each arrival row\n",
    "            extras.update({id(x): data for x in origin.arrivals})\n",
    "    return arrivals_to_df(arrivals, extras=extras)"
   ]
  },
  {
   "cell_type": "markdown",
   "metadata": {},
   "source": [
    "Great, now let's try out the extractor!"
   ]
  },
  {
   "cell_type": "code",
   "execution_count": 5,
   "metadata": {},
   "outputs": [
    {
     "data": {
      "text/html": [
       "<div>\n",
       "<style scoped>\n",
       "    .dataframe tbody tr th:only-of-type {\n",
       "        vertical-align: middle;\n",
       "    }\n",
       "\n",
       "    .dataframe tbody tr th {\n",
       "        vertical-align: top;\n",
       "    }\n",
       "\n",
       "    .dataframe thead th {\n",
       "        text-align: right;\n",
       "    }\n",
       "</style>\n",
       "<table border=\"1\" class=\"dataframe\">\n",
       "  <thead>\n",
       "    <tr style=\"text-align: right;\">\n",
       "      <th></th>\n",
       "      <th>resource_id</th>\n",
       "      <th>pick_id</th>\n",
       "      <th>event_id</th>\n",
       "      <th>origin_id</th>\n",
       "      <th>phase</th>\n",
       "      <th>time_correction</th>\n",
       "      <th>distance</th>\n",
       "      <th>time_residual</th>\n",
       "      <th>time_weight</th>\n",
       "    </tr>\n",
       "  </thead>\n",
       "  <tbody>\n",
       "    <tr>\n",
       "      <th>0</th>\n",
       "      <td>smi:local/6a71667a-1d56-4420-842f-449c35ee2f62</td>\n",
       "      <td>smi:local/21690511</td>\n",
       "      <td>smi:local/248828</td>\n",
       "      <td>smi:local/404310</td>\n",
       "      <td>P</td>\n",
       "      <td>NaN</td>\n",
       "      <td>0.355</td>\n",
       "      <td>-0.092</td>\n",
       "      <td>-1.0</td>\n",
       "    </tr>\n",
       "    <tr>\n",
       "      <th>1</th>\n",
       "      <td>smi:local/2038b04e-d5bd-42a8-88ed-cd01f3ee983a</td>\n",
       "      <td>smi:local/21690512</td>\n",
       "      <td>smi:local/248828</td>\n",
       "      <td>smi:local/404310</td>\n",
       "      <td>P</td>\n",
       "      <td>NaN</td>\n",
       "      <td>0.393</td>\n",
       "      <td>-0.100</td>\n",
       "      <td>-1.0</td>\n",
       "    </tr>\n",
       "    <tr>\n",
       "      <th>2</th>\n",
       "      <td>smi:local/c856e454-cc2c-4a01-9d55-7a1d96cab052</td>\n",
       "      <td>smi:local/21690513</td>\n",
       "      <td>smi:local/248828</td>\n",
       "      <td>smi:local/404310</td>\n",
       "      <td>P</td>\n",
       "      <td>NaN</td>\n",
       "      <td>0.525</td>\n",
       "      <td>-0.146</td>\n",
       "      <td>-1.0</td>\n",
       "    </tr>\n",
       "    <tr>\n",
       "      <th>3</th>\n",
       "      <td>smi:local/edafe686-55d3-4c1c-bfec-aaccda71cf9d</td>\n",
       "      <td>smi:local/21690514</td>\n",
       "      <td>smi:local/248828</td>\n",
       "      <td>smi:local/404310</td>\n",
       "      <td>P</td>\n",
       "      <td>NaN</td>\n",
       "      <td>0.618</td>\n",
       "      <td>-0.019</td>\n",
       "      <td>-1.0</td>\n",
       "    </tr>\n",
       "    <tr>\n",
       "      <th>4</th>\n",
       "      <td>smi:local/b2d4defe-b6a0-4989-bf59-705591a4e846</td>\n",
       "      <td>smi:local/21690515</td>\n",
       "      <td>smi:local/248828</td>\n",
       "      <td>smi:local/404310</td>\n",
       "      <td>S</td>\n",
       "      <td>NaN</td>\n",
       "      <td>0.355</td>\n",
       "      <td>0.357</td>\n",
       "      <td>-1.0</td>\n",
       "    </tr>\n",
       "  </tbody>\n",
       "</table>\n",
       "</div>"
      ],
      "text/plain": [
       "                                      resource_id             pick_id  \\\n",
       "0  smi:local/6a71667a-1d56-4420-842f-449c35ee2f62  smi:local/21690511   \n",
       "1  smi:local/2038b04e-d5bd-42a8-88ed-cd01f3ee983a  smi:local/21690512   \n",
       "2  smi:local/c856e454-cc2c-4a01-9d55-7a1d96cab052  smi:local/21690513   \n",
       "3  smi:local/edafe686-55d3-4c1c-bfec-aaccda71cf9d  smi:local/21690514   \n",
       "4  smi:local/b2d4defe-b6a0-4989-bf59-705591a4e846  smi:local/21690515   \n",
       "\n",
       "           event_id         origin_id phase  time_correction  distance  \\\n",
       "0  smi:local/248828  smi:local/404310     P              NaN     0.355   \n",
       "1  smi:local/248828  smi:local/404310     P              NaN     0.393   \n",
       "2  smi:local/248828  smi:local/404310     P              NaN     0.525   \n",
       "3  smi:local/248828  smi:local/404310     P              NaN     0.618   \n",
       "4  smi:local/248828  smi:local/404310     S              NaN     0.355   \n",
       "\n",
       "   time_residual  time_weight  \n",
       "0         -0.092         -1.0  \n",
       "1         -0.100         -1.0  \n",
       "2         -0.146         -1.0  \n",
       "3         -0.019         -1.0  \n",
       "4          0.357         -1.0  "
      ]
     },
     "execution_count": 5,
     "metadata": {},
     "output_type": "execute_result"
    }
   ],
   "source": [
    "df = arrivals_to_df(cat)\n",
    "df.head()"
   ]
  },
  {
   "cell_type": "code",
   "execution_count": 6,
   "metadata": {},
   "outputs": [
    {
     "data": {
      "text/plain": [
       "pPn    238\n",
       "P      224\n",
       "Pb     129\n",
       "Sb      87\n",
       "Pg      79\n",
       "S       66\n",
       "Pn      53\n",
       "Sg      53\n",
       "Sn      22\n",
       "pPb      3\n",
       "Name: phase, dtype: int64"
      ]
     },
     "execution_count": 6,
     "metadata": {},
     "output_type": "execute_result"
    }
   ],
   "source": [
    "df.phase.value_counts()"
   ]
  },
  {
   "cell_type": "markdown",
   "metadata": {},
   "source": [
    "Looks good, however, what if we only wanted P phases? The easiest thing to do is simply filter the dataframe, but, for demonstration, let's modify our phase extractor so that any row that is not a P phase is skipped. This is done by raising a `SkipRow` exception which is an attribute of the `DataFrameExtractor`."
   ]
  },
  {
   "cell_type": "code",
   "execution_count": 7,
   "metadata": {},
   "outputs": [
    {
     "name": "stderr",
     "output_type": "stream",
     "text": [
      "/media/data/Gits/obsplus/obsplus/structures/dfextractor.py:114: UserWarning: _get_phase is already a registered extractor, overwriting\n",
      "  warnings.warn(msg)\n"
     ]
    }
   ],
   "source": [
    "@arrivals_to_df.extractor\n",
    "def _get_phase(arrival):\n",
    "    phase = arrival.phase\n",
    "    if phase.upper() != 'P':\n",
    "        raise arrivals_to_df.SkipRow\n",
    "    return phase"
   ]
  },
  {
   "cell_type": "code",
   "execution_count": 8,
   "metadata": {},
   "outputs": [
    {
     "name": "stdout",
     "output_type": "stream",
     "text": [
      "P    224\n",
      "Name: phase, dtype: int64\n"
     ]
    }
   ],
   "source": [
    "df = arrivals_to_df(cat)\n",
    "print(df.phase.value_counts())"
   ]
  },
  {
   "cell_type": "markdown",
   "metadata": {},
   "source": [
    "Now we can get a picks dataframe and perform a left join on the phases:"
   ]
  },
  {
   "cell_type": "code",
   "execution_count": 9,
   "metadata": {},
   "outputs": [],
   "source": [
    "# get picks and filter out non-P phases\n",
    "picks = obsplus.picks_to_df(cat)\n",
    "picks = picks[picks.phase_hint.str.upper() == \"P\"]"
   ]
  },
  {
   "cell_type": "code",
   "execution_count": 10,
   "metadata": {},
   "outputs": [],
   "source": [
    "df_merged = df.merge(picks, how='left', right_on='resource_id', left_on='pick_id')"
   ]
  },
  {
   "cell_type": "code",
   "execution_count": 11,
   "metadata": {},
   "outputs": [
    {
     "data": {
      "text/html": [
       "<div>\n",
       "<style scoped>\n",
       "    .dataframe tbody tr th:only-of-type {\n",
       "        vertical-align: middle;\n",
       "    }\n",
       "\n",
       "    .dataframe tbody tr th {\n",
       "        vertical-align: top;\n",
       "    }\n",
       "\n",
       "    .dataframe thead th {\n",
       "        text-align: right;\n",
       "    }\n",
       "</style>\n",
       "<table border=\"1\" class=\"dataframe\">\n",
       "  <thead>\n",
       "    <tr style=\"text-align: right;\">\n",
       "      <th></th>\n",
       "      <th>resource_id_x</th>\n",
       "      <th>pick_id</th>\n",
       "      <th>event_id_x</th>\n",
       "      <th>origin_id</th>\n",
       "      <th>phase</th>\n",
       "      <th>time_correction</th>\n",
       "      <th>distance</th>\n",
       "      <th>time_residual</th>\n",
       "      <th>time_weight</th>\n",
       "      <th>resource_id_y</th>\n",
       "      <th>...</th>\n",
       "      <th>agency_id</th>\n",
       "      <th>author</th>\n",
       "      <th>backazimuth</th>\n",
       "      <th>creation_time</th>\n",
       "      <th>evaluation_mode</th>\n",
       "      <th>evaluation_status</th>\n",
       "      <th>filter_id</th>\n",
       "      <th>horizontal_slowness</th>\n",
       "      <th>method_id</th>\n",
       "      <th>seed_id</th>\n",
       "    </tr>\n",
       "  </thead>\n",
       "  <tbody>\n",
       "    <tr>\n",
       "      <th>0</th>\n",
       "      <td>smi:local/6a71667a-1d56-4420-842f-449c35ee2f62</td>\n",
       "      <td>smi:local/21690511</td>\n",
       "      <td>smi:local/248828</td>\n",
       "      <td>smi:local/404310</td>\n",
       "      <td>P</td>\n",
       "      <td>NaN</td>\n",
       "      <td>0.355</td>\n",
       "      <td>-0.092</td>\n",
       "      <td>-1.0</td>\n",
       "      <td>smi:local/21690511</td>\n",
       "      <td>...</td>\n",
       "      <td>None</td>\n",
       "      <td>None</td>\n",
       "      <td>NaN</td>\n",
       "      <td>1.272650e+09</td>\n",
       "      <td>None</td>\n",
       "      <td>rejected</td>\n",
       "      <td>None</td>\n",
       "      <td>NaN</td>\n",
       "      <td>None</td>\n",
       "      <td>TA.P17A..BHZ</td>\n",
       "    </tr>\n",
       "    <tr>\n",
       "      <th>1</th>\n",
       "      <td>smi:local/2038b04e-d5bd-42a8-88ed-cd01f3ee983a</td>\n",
       "      <td>smi:local/21690512</td>\n",
       "      <td>smi:local/248828</td>\n",
       "      <td>smi:local/404310</td>\n",
       "      <td>P</td>\n",
       "      <td>NaN</td>\n",
       "      <td>0.393</td>\n",
       "      <td>-0.100</td>\n",
       "      <td>-1.0</td>\n",
       "      <td>smi:local/21690512</td>\n",
       "      <td>...</td>\n",
       "      <td>None</td>\n",
       "      <td>None</td>\n",
       "      <td>NaN</td>\n",
       "      <td>1.272650e+09</td>\n",
       "      <td>None</td>\n",
       "      <td>rejected</td>\n",
       "      <td>None</td>\n",
       "      <td>NaN</td>\n",
       "      <td>None</td>\n",
       "      <td>TA.P16A..BHZ</td>\n",
       "    </tr>\n",
       "    <tr>\n",
       "      <th>2</th>\n",
       "      <td>smi:local/c856e454-cc2c-4a01-9d55-7a1d96cab052</td>\n",
       "      <td>smi:local/21690513</td>\n",
       "      <td>smi:local/248828</td>\n",
       "      <td>smi:local/404310</td>\n",
       "      <td>P</td>\n",
       "      <td>NaN</td>\n",
       "      <td>0.525</td>\n",
       "      <td>-0.146</td>\n",
       "      <td>-1.0</td>\n",
       "      <td>smi:local/21690513</td>\n",
       "      <td>...</td>\n",
       "      <td>None</td>\n",
       "      <td>None</td>\n",
       "      <td>NaN</td>\n",
       "      <td>1.272650e+09</td>\n",
       "      <td>None</td>\n",
       "      <td>rejected</td>\n",
       "      <td>None</td>\n",
       "      <td>NaN</td>\n",
       "      <td>None</td>\n",
       "      <td>TA.Q16A..BHZ</td>\n",
       "    </tr>\n",
       "    <tr>\n",
       "      <th>3</th>\n",
       "      <td>smi:local/edafe686-55d3-4c1c-bfec-aaccda71cf9d</td>\n",
       "      <td>smi:local/21690514</td>\n",
       "      <td>smi:local/248828</td>\n",
       "      <td>smi:local/404310</td>\n",
       "      <td>P</td>\n",
       "      <td>NaN</td>\n",
       "      <td>0.618</td>\n",
       "      <td>-0.019</td>\n",
       "      <td>-1.0</td>\n",
       "      <td>smi:local/21690514</td>\n",
       "      <td>...</td>\n",
       "      <td>None</td>\n",
       "      <td>None</td>\n",
       "      <td>NaN</td>\n",
       "      <td>1.272650e+09</td>\n",
       "      <td>None</td>\n",
       "      <td>rejected</td>\n",
       "      <td>None</td>\n",
       "      <td>NaN</td>\n",
       "      <td>None</td>\n",
       "      <td>UU.SRU..BHZ</td>\n",
       "    </tr>\n",
       "    <tr>\n",
       "      <th>4</th>\n",
       "      <td>smi:local/476d69d8-5739-412f-912d-184827b950e3</td>\n",
       "      <td>smi:local/21690516</td>\n",
       "      <td>smi:local/248828</td>\n",
       "      <td>smi:local/404310</td>\n",
       "      <td>P</td>\n",
       "      <td>NaN</td>\n",
       "      <td>0.758</td>\n",
       "      <td>0.056</td>\n",
       "      <td>-1.0</td>\n",
       "      <td>smi:local/21690516</td>\n",
       "      <td>...</td>\n",
       "      <td>None</td>\n",
       "      <td>None</td>\n",
       "      <td>NaN</td>\n",
       "      <td>1.272650e+09</td>\n",
       "      <td>None</td>\n",
       "      <td>rejected</td>\n",
       "      <td>None</td>\n",
       "      <td>NaN</td>\n",
       "      <td>None</td>\n",
       "      <td>TA.P18A..BHZ</td>\n",
       "    </tr>\n",
       "  </tbody>\n",
       "</table>\n",
       "<p>5 rows × 30 columns</p>\n",
       "</div>"
      ],
      "text/plain": [
       "                                    resource_id_x             pick_id  \\\n",
       "0  smi:local/6a71667a-1d56-4420-842f-449c35ee2f62  smi:local/21690511   \n",
       "1  smi:local/2038b04e-d5bd-42a8-88ed-cd01f3ee983a  smi:local/21690512   \n",
       "2  smi:local/c856e454-cc2c-4a01-9d55-7a1d96cab052  smi:local/21690513   \n",
       "3  smi:local/edafe686-55d3-4c1c-bfec-aaccda71cf9d  smi:local/21690514   \n",
       "4  smi:local/476d69d8-5739-412f-912d-184827b950e3  smi:local/21690516   \n",
       "\n",
       "         event_id_x         origin_id phase  time_correction  distance  \\\n",
       "0  smi:local/248828  smi:local/404310     P              NaN     0.355   \n",
       "1  smi:local/248828  smi:local/404310     P              NaN     0.393   \n",
       "2  smi:local/248828  smi:local/404310     P              NaN     0.525   \n",
       "3  smi:local/248828  smi:local/404310     P              NaN     0.618   \n",
       "4  smi:local/248828  smi:local/404310     P              NaN     0.758   \n",
       "\n",
       "   time_residual  time_weight       resource_id_y      ...      agency_id  \\\n",
       "0         -0.092         -1.0  smi:local/21690511      ...           None   \n",
       "1         -0.100         -1.0  smi:local/21690512      ...           None   \n",
       "2         -0.146         -1.0  smi:local/21690513      ...           None   \n",
       "3         -0.019         -1.0  smi:local/21690514      ...           None   \n",
       "4          0.056         -1.0  smi:local/21690516      ...           None   \n",
       "\n",
       "   author backazimuth creation_time evaluation_mode  evaluation_status  \\\n",
       "0    None         NaN  1.272650e+09            None           rejected   \n",
       "1    None         NaN  1.272650e+09            None           rejected   \n",
       "2    None         NaN  1.272650e+09            None           rejected   \n",
       "3    None         NaN  1.272650e+09            None           rejected   \n",
       "4    None         NaN  1.272650e+09            None           rejected   \n",
       "\n",
       "  filter_id horizontal_slowness method_id       seed_id  \n",
       "0      None                 NaN      None  TA.P17A..BHZ  \n",
       "1      None                 NaN      None  TA.P16A..BHZ  \n",
       "2      None                 NaN      None  TA.Q16A..BHZ  \n",
       "3      None                 NaN      None   UU.SRU..BHZ  \n",
       "4      None                 NaN      None  TA.P18A..BHZ  \n",
       "\n",
       "[5 rows x 30 columns]"
      ]
     },
     "execution_count": 11,
     "metadata": {},
     "output_type": "execute_result"
    }
   ],
   "source": [
    "df_merged.head()"
   ]
  },
  {
   "cell_type": "code",
   "execution_count": 12,
   "metadata": {},
   "outputs": [
    {
     "data": {
      "text/plain": [
       "Index(['resource_id_x', 'pick_id', 'event_id_x', 'origin_id', 'phase',\n",
       "       'time_correction', 'distance', 'time_residual', 'time_weight',\n",
       "       'resource_id_y', 'event_id_y', 'event_time', 'phase_hint', 'onset',\n",
       "       'polarity', 'time', 'network', 'station', 'location', 'channel',\n",
       "       'agency_id', 'author', 'backazimuth', 'creation_time',\n",
       "       'evaluation_mode', 'evaluation_status', 'filter_id',\n",
       "       'horizontal_slowness', 'method_id', 'seed_id'],\n",
       "      dtype='object')"
      ]
     },
     "execution_count": 12,
     "metadata": {},
     "output_type": "execute_result"
    }
   ],
   "source": [
    "df_merged.columns"
   ]
  },
  {
   "cell_type": "markdown",
   "metadata": {},
   "source": [
    "We can also calculate how often the `phase` attribute in the arrival is different from the `phase_hint` in the pick, which could indicate a quality issue."
   ]
  },
  {
   "cell_type": "code",
   "execution_count": 13,
   "metadata": {},
   "outputs": [
    {
     "data": {
      "text/plain": [
       "1.0"
      ]
     },
     "execution_count": 13,
     "metadata": {},
     "output_type": "execute_result"
    }
   ],
   "source": [
    "# calculate fraction of phase_hints that match phase\n",
    "(df_merged['phase'] == df_merged['phase_hint']).sum() / len(df_merged)"
   ]
  }
 ],
 "metadata": {
  "kernelspec": {
   "display_name": "Python 3",
   "language": "python",
   "name": "python3"
  },
  "language_info": {
   "codemirror_mode": {
    "name": "ipython",
    "version": 3
   },
   "file_extension": ".py",
   "mimetype": "text/x-python",
   "name": "python",
   "nbconvert_exporter": "python",
   "pygments_lexer": "ipython3",
   "version": "3.7.1"
  }
 },
 "nbformat": 4,
 "nbformat_minor": 2
}
