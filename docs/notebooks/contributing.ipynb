{
 "cells": [
  {
   "cell_type": "markdown",
   "metadata": {},
   "source": [
    "# Contributing\n",
    "\n",
    "Contributions to ObsPlus are welcomed and appreciated.\n",
    "\n",
    "We are planning to use the standard [git branching model](https://nvie.com/posts/a-successful-git-branching-model/) (or something similar) starting on version 0.1.0 when ObsPlus is expected to gain a bit more stability. Until then, we will just make feature commits and bug-fix commits directly to master and roll out releases as quickly as needed \n",
    "\n",
    "ObsPlus also uses [Black](https://github.com/ambv/black) for code linting, [numpy style docstrings](https://numpydoc.readthedocs.io/en/latest/format.html), and makes extensive use of Python 3's [type hints](https://docs.python.org/3/library/typing.html)."
   ]
  }
 ],
 "metadata": {
  "kernelspec": {
   "display_name": "Python 3",
   "language": "python",
   "name": "python3"
  },
  "language_info": {
   "codemirror_mode": {
    "name": "ipython",
    "version": 3
   },
   "file_extension": ".py",
   "mimetype": "text/x-python",
   "name": "python",
   "nbconvert_exporter": "python",
   "pygments_lexer": "ipython3",
   "version": "3.7.0"
  }
 },
 "nbformat": 4,
 "nbformat_minor": 2
}
