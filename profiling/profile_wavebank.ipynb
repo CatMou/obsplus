{
 "cells": [
  {
   "cell_type": "code",
   "execution_count": null,
   "metadata": {},
   "outputs": [],
   "source": [
    "import shutil\n",
    "from pathlib import Path\n",
    "\n",
    "import obspy\n",
    "import obsplus"
   ]
  },
  {
   "cell_type": "code",
   "execution_count": null,
   "metadata": {},
   "outputs": [],
   "source": [
    "test_dir = Path('archive')\n",
    "index_file = test_dir / '.index.h5'\n",
    "\n",
    "if index_file.exists():\n",
    "    index_file.unlink()"
   ]
  },
  {
   "cell_type": "code",
   "execution_count": null,
   "metadata": {},
   "outputs": [],
   "source": [
    "# make test directory\n",
    "if not test_dir.exists():\n",
    "    test_dir.mkdir(exist_ok=True, parents=True)\n",
    "    endtime = 0\n",
    "    for a in range(4000):\n",
    "        st = obspy.read()\n",
    "        for tr in st:\n",
    "            tr.stats.starttime = obspy.UTCDateTime(endtime)\n",
    "        st.write(str(test_dir / f'{a}.mseed'))\n",
    "        endtime = tr.stats.endtime\n",
    "    "
   ]
  },
  {
   "cell_type": "code",
   "execution_count": null,
   "metadata": {},
   "outputs": [],
   "source": [
    "wb = obsplus.WaveBank(test_dir)\n",
    "\n",
    "def index_update():\n",
    "    if index_file.exists():\n",
    "        index_file.unlink()\n",
    "    wb.update_index()"
   ]
  },
  {
   "cell_type": "code",
   "execution_count": null,
   "metadata": {},
   "outputs": [],
   "source": [
    "%timeit index_update()\n"
   ]
  },
  {
   "cell_type": "code",
   "execution_count": null,
   "metadata": {},
   "outputs": [],
   "source": []
  }
 ],
 "metadata": {
  "kernelspec": {
   "display_name": "Python 3",
   "language": "python",
   "name": "python3"
  },
  "language_info": {
   "codemirror_mode": {
    "name": "ipython",
    "version": 3
   },
   "file_extension": ".py",
   "mimetype": "text/x-python",
   "name": "python",
   "nbconvert_exporter": "python",
   "pygments_lexer": "ipython3",
   "version": "3.6.3"
  }
 },
 "nbformat": 4,
 "nbformat_minor": 2
}
